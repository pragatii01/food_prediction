{
  "nbformat": 4,
  "nbformat_minor": 0,
  "metadata": {
    "colab": {
      "provenance": []
    },
    "kernelspec": {
      "name": "python3",
      "display_name": "Python 3"
    },
    "language_info": {
      "name": "python"
    }
  },
  "cells": [
    {
      "cell_type": "code",
      "execution_count": 1,
      "metadata": {
        "colab": {
          "base_uri": "https://localhost:8080/"
        },
        "id": "9T8MkhNgqn9H",
        "outputId": "24e17f6b-2305-4c1c-bfa9-116ac8e48055"
      },
      "outputs": [
        {
          "output_type": "stream",
          "name": "stdout",
          "text": [
            "Transition Matrix:\n",
            "        Burger     Pizza     Sushi  Salad\n",
            "Burger     0.0  0.200000  0.400000   0.40\n",
            "Pizza      0.5  0.000000  0.250000   0.25\n",
            "Sushi      0.5  0.250000  0.000000   0.25\n",
            "Salad      0.0  0.666667  0.333333   0.00\n",
            "The predicted next order after Pizza is: Burger\n",
            "Simulated sequence of future orders starting from Pizza:\n",
            "['Pizza', 'Burger', 'Sushi', 'Burger', 'Sushi', 'Burger', 'Sushi', 'Burger', 'Sushi', 'Burger', 'Sushi']\n"
          ]
        }
      ],
      "source": [
        "import numpy as np\n",
        "import pandas as pd\n",
        "from collections import defaultdict\n",
        "\n",
        "# Sample food order sequences\n",
        "order_sequences = [\n",
        "    [\"Pizza\", \"Burger\", \"Sushi\", \"Pizza\", \"Salad\", \"Sushi\", \"Burger\", \"Pizza\"],\n",
        "    [\"Burger\", \"Salad\", \"Pizza\", \"Burger\", \"Sushi\", \"Salad\"],\n",
        "    [\"Pizza\", \"Sushi\", \"Burger\", \"Salad\", \"Pizza\"]\n",
        "]\n",
        "\n",
        "# Step 1: Build a transition matrix\n",
        "transition_counts = defaultdict(lambda: defaultdict(int))\n",
        "\n",
        "# Count transitions\n",
        "for sequence in order_sequences:\n",
        "    for i in range(len(sequence) - 1):\n",
        "        current_food = sequence[i]\n",
        "        next_food = sequence[i + 1]\n",
        "        transition_counts[current_food][next_food] += 1\n",
        "\n",
        "# Create the transition probability matrix\n",
        "food_items = list({food for seq in order_sequences for food in seq})\n",
        "transition_matrix = pd.DataFrame(index=food_items, columns=food_items, data=0.0)\n",
        "\n",
        "for current_food, next_foods in transition_counts.items():\n",
        "    total_transitions = sum(next_foods.values())\n",
        "    for next_food, count in next_foods.items():\n",
        "        transition_matrix.loc[current_food, next_food] = count / total_transitions\n",
        "\n",
        "# Fill NaN values with 0 for no transitions\n",
        "transition_matrix.fillna(0, inplace=True)\n",
        "\n",
        "print(\"Transition Matrix:\")\n",
        "print(transition_matrix)\n",
        "\n",
        "# Step 2: Predict the next food category\n",
        "def predict_next_order(current_food, transition_matrix):\n",
        "    if current_food not in transition_matrix.index:\n",
        "        print(f\"No data available for {current_food}. Cannot make a prediction.\")\n",
        "        return None\n",
        "\n",
        "    # Get the probabilities for the next food item\n",
        "    next_food_probabilities = transition_matrix.loc[current_food]\n",
        "    most_likely_food = next_food_probabilities.idxmax()\n",
        "\n",
        "    return most_likely_food\n",
        "\n",
        "# Example prediction\n",
        "current_order = \"Pizza\"\n",
        "predicted_next_order = predict_next_order(current_order, transition_matrix)\n",
        "print(f\"The predicted next order after {current_order} is: {predicted_next_order}\")\n",
        "\n",
        "# Step 3: Simulate a sequence of future orders\n",
        "def simulate_orders(start_food, transition_matrix, n=5):\n",
        "    current_food = start_food\n",
        "    order_sequence = [current_food]\n",
        "\n",
        "    for _ in range(n):\n",
        "        next_food = predict_next_order(current_food, transition_matrix)\n",
        "        if next_food is None:\n",
        "            break\n",
        "        order_sequence.append(next_food)\n",
        "        current_food = next_food\n",
        "\n",
        "    return order_sequence\n",
        "\n",
        "# Example simulation\n",
        "start_food = \"Pizza\"\n",
        "simulated_orders = simulate_orders(start_food, transition_matrix, n=10)\n",
        "print(f\"Simulated sequence of future orders starting from {start_food}:\")\n",
        "print(simulated_orders)\n"
      ]
    }
  ]
}